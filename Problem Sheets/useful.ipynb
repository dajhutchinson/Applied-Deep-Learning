{
 "cells": [
  {
   "cell_type": "markdown",
   "metadata": {},
   "source": [
    "# Unix Commands"
   ]
  },
  {
   "cell_type": "markdown",
   "metadata": {},
   "source": [
    "You can execute unix commands in Jupyter by starting the line with an `!`"
   ]
  },
  {
   "cell_type": "code",
   "execution_count": 1,
   "metadata": {},
   "outputs": [
    {
     "name": "stdout",
     "output_type": "stream",
     "text": [
      " Volume in drive D is Data\n",
      " Volume Serial Number is D0A8-76EC\n",
      "\n",
      " Directory of D:\\Documents\\CS\\Applied-Deep-Learning\\Problem Sheets\n",
      "\n",
      "15/10/2020  16:53    <DIR>          .\n",
      "15/10/2020  16:53    <DIR>          ..\n",
      "15/10/2020  16:33    <DIR>          .ipynb_checkpoints\n",
      "15/10/2020  16:50               873 argparse_example.py\n",
      "15/10/2020  16:51               403 looging_example.py\n",
      "17/09/2020  17:36    <DIR>          src\n",
      "15/10/2020  16:53            10,980 useful.ipynb\n",
      "               3 File(s)         12,256 bytes\n",
      "               4 Dir(s)  627,227,967,488 bytes free\n"
     ]
    }
   ],
   "source": [
    "!dir"
   ]
  },
  {
   "cell_type": "markdown",
   "metadata": {},
   "source": [
    "# `os`"
   ]
  },
  {
   "cell_type": "code",
   "execution_count": 2,
   "metadata": {},
   "outputs": [
    {
     "name": "stdout",
     "output_type": "stream",
     "text": [
      "C:\\Users\\Dom\n",
      "D:\\Documents\\CS\\Applied-Deep-Learning\\Problem Sheets\n",
      "True\n"
     ]
    }
   ],
   "source": [
    "# Check directories\n",
    "import os\n",
    "from pathlib import Path\n",
    "print(Path.home()) # home directory\n",
    "print(os.getcwd()) # current working directory\n",
    "print(Path(\"src\").exists()) # check directory exists"
   ]
  },
  {
   "cell_type": "markdown",
   "metadata": {},
   "source": [
    "# `collections`"
   ]
  },
  {
   "cell_type": "code",
   "execution_count": 3,
   "metadata": {},
   "outputs": [
    {
     "name": "stdout",
     "output_type": "stream",
     "text": [
      "coords(x=[1, 2, 3, 4], y=[1, 2, 3, 4]) [1, 2, 3, 4] [1, 2, 3, 4]\n"
     ]
    },
    {
     "data": {
      "text/plain": [
       "Counter({'a': 2, 'b': 3, 'c': 1})"
      ]
     },
     "execution_count": 3,
     "metadata": {},
     "output_type": "execute_result"
    }
   ],
   "source": [
    "# collections of data\n",
    "import collections\n",
    "# named tuple\n",
    "coords=collections.namedtuple(\"coords\",[\"x\",\"y\"])\n",
    "ds=coords([1,2,3,4],[1,2,3,4])\n",
    "print(ds,ds.x,ds.y)\n",
    "\n",
    "# counter\n",
    "c=collections.Counter([\"a\",\"a\",\"b\",\"b\",\"b\",\"c\"])\n",
    "c"
   ]
  },
  {
   "cell_type": "markdown",
   "metadata": {},
   "source": [
    "# Lists"
   ]
  },
  {
   "cell_type": "code",
   "execution_count": 4,
   "metadata": {},
   "outputs": [
    {
     "name": "stdout",
     "output_type": "stream",
     "text": [
      "[(1, 'a'), (2, 'b'), (3, 'c'), (4, 'd')]\n",
      "[1, 3, 5, 7, 9, 11, 13, 15, 17, 19]\n",
      "[0, 1, 4, 9, 16, 25, 36, 49, 64, 81]\n",
      "0123456789\n",
      "[(0, 1, 2), (0, 2, 1), (1, 0, 2), (1, 2, 0), (2, 0, 1), (2, 1, 0)]\n",
      "[(0, 1), (0, 2), (1, 2)]\n",
      "01201201201"
     ]
    }
   ],
   "source": [
    "import itertools\n",
    "\n",
    "#zip\n",
    "z=zip([1,2,3,4],[\"a\",\"b\",\"c\",\"d\"])\n",
    "print(list(z))\n",
    "\n",
    "# filter\n",
    "f=filter(lambda x:(x%2),range(20))\n",
    "print(list(f))\n",
    "\n",
    "# map\n",
    "m=map(lambda x:x**2,range(10))\n",
    "print(list(m))\n",
    "\n",
    "# iter\n",
    "it=iter(list(range(10)))\n",
    "for i in it: print(i,end=\"\")\n",
    "for i in it: print(i,end=\"\") # does not work second time as already expended\n",
    "print()\n",
    "    \n",
    "# permutations\n",
    "print(list(itertools.permutations([0,1,2])))\n",
    "print(list(itertools.combinations([0,1,2],2)))\n",
    "\n",
    "# infinite loop\n",
    "i=0\n",
    "for x in itertools.cycle([0,1,2]):\n",
    "    print(x,end=\"\")\n",
    "    i+=1\n",
    "    if (i>10): break"
   ]
  },
  {
   "cell_type": "markdown",
   "metadata": {},
   "source": [
    "# `tempfile`\n",
    "`tempfile` is useful for writing intermediate results to disk.\n",
    " - `TemporaryFile`\n",
    " - `TemporaryDirectory`\n",
    " \n",
    "Exists until it is closed with `.close()` or leaving a context manager."
   ]
  },
  {
   "cell_type": "code",
   "execution_count": 5,
   "metadata": {},
   "outputs": [],
   "source": [
    "import tempfile,os"
   ]
  },
  {
   "cell_type": "code",
   "execution_count": 6,
   "metadata": {},
   "outputs": [
    {
     "name": "stdout",
     "output_type": "stream",
     "text": [
      "Hello World!\n",
      "0\n"
     ]
    }
   ],
   "source": [
    "with tempfile.TemporaryFile(mode=\"w+\") as f:\n",
    "    f.writelines(\"Hello World!\")\n",
    "    f.seek(0) # go to start of file\n",
    "    print(f.readlines()[0])\n",
    "\n",
    "# file gone\n",
    "with tempfile.TemporaryFile(mode=\"r\") as f:\n",
    "    print(len(f.readlines()))"
   ]
  },
  {
   "cell_type": "markdown",
   "metadata": {},
   "source": [
    "# `argparse`\n",
    "`argparse` makes it easier to parse CLI arguments."
   ]
  },
  {
   "cell_type": "code",
   "execution_count": 8,
   "metadata": {},
   "outputs": [
    {
     "name": "stdout",
     "output_type": "stream",
     "text": [
      "Namespace(batch_size=64, stride='1x1', **{'dataset-dir': '/tmp/mnist'})\n"
     ]
    }
   ],
   "source": [
    "# see argparse_example.py\n",
    "! argparse_example.py /tmp/mnist --stride 1x1 --batch-size 64"
   ]
  },
  {
   "cell_type": "markdown",
   "metadata": {},
   "source": [
    "# `logging`"
   ]
  },
  {
   "cell_type": "code",
   "execution_count": 3,
   "metadata": {},
   "outputs": [
    {
     "name": "stderr",
     "output_type": "stream",
     "text": [
      "DEBUG:app:starting main function\n",
      "INFO:app:ready\n",
      "DEBUG:app.component:initialising\n",
      "DEBUG:app.component:ready\n"
     ]
    }
   ],
   "source": [
    "# %load logging_example.py\n",
    "#!/usr/bin/env python\n",
    "\n",
    "import logging\n",
    "\n",
    "top_level_logger = logging.getLogger('app')\n",
    "subcomponent_logger = logging.getLogger('app.component')\n",
    "\n",
    "\n",
    "if __name__ == '__main__':\n",
    "    logging.basicConfig(level=logging.DEBUG)\n",
    "\n",
    "    top_level_logger.debug('starting main function')\n",
    "    top_level_logger.info('ready')\n",
    "    subcomponent_logger.debug('initialising')\n",
    "    subcomponent_logger.debug('ready')\n"
   ]
  },
  {
   "cell_type": "markdown",
   "metadata": {},
   "source": [
    "# `pdb`\n",
    "`pdb` is the python debugger. `pdb` is imported into the source code and a new statement is added to the program to trigger a breakpoint.\n",
    "\n",
    "To continue past the break point type `c` or `continue`"
   ]
  },
  {
   "cell_type": "code",
   "execution_count": null,
   "metadata": {},
   "outputs": [],
   "source": [
    "import pdb; pdb.set_trace()\n",
    "# Using the ipython `%pdb` magic you can drop into a pdb prompt\n",
    "# when an exception \n",
    "%pdb on\n",
    "\n",
    "d = {\n",
    "    'a': 1,\n",
    "    'b': 2\n",
    "}\n",
    "\n",
    "# Trigger `KeyError` exception which will cause Jupyter to drop into pdb debugger\n",
    "print(d['c'])"
   ]
  },
  {
   "cell_type": "code",
   "execution_count": null,
   "metadata": {},
   "outputs": [],
   "source": []
  }
 ],
 "metadata": {
  "kernelspec": {
   "display_name": "Python 3",
   "language": "python",
   "name": "python3"
  },
  "language_info": {
   "codemirror_mode": {
    "name": "ipython",
    "version": 3
   },
   "file_extension": ".py",
   "mimetype": "text/x-python",
   "name": "python",
   "nbconvert_exporter": "python",
   "pygments_lexer": "ipython3",
   "version": "3.7.3"
  }
 },
 "nbformat": 4,
 "nbformat_minor": 2
}
